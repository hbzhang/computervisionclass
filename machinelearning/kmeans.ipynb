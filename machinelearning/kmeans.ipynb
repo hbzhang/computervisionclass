{
 "cells": [
  {
   "cell_type": "markdown",
   "metadata": {
    "collapsed": true
   },
   "source": [
    "First, we need to import header file\n",
    "Import modules\n",
    "cv2 is the openCV module\n",
    "Famous numpy for matrix operations\n",
    "matplotlib for plotting"
   ]
  },
  {
   "cell_type": "code",
   "execution_count": null,
   "metadata": {},
   "outputs": [],
   "source": [
    "#### This scipt is used demostrate the Kmeans"
   ]
  },
  {
   "cell_type": "code",
   "execution_count": 2,
   "metadata": {},
   "outputs": [
    {
     "name": "stdout",
     "output_type": "stream",
     "text": [
      "(50, 2)\n(50, 1)\n"
     ]
    },
    {
     "data": {
      "image/png": "[encoded data removed]",
      "text/plain": [
       "<Figure size 432x288 with 1 Axes>"
      ]
     },
     "metadata": {},
     "output_type": "display_data"
    }
   ],
   "source": [
    "%matplotlib inline\n",
    "import cv2\n",
    "import numpy as np\n",
    "import matplotlib.pyplot as plt\n",
    "\n",
    "\n",
    "# generate 25 rows and two columns,\n",
    "X = np.random.randint(25,50,(25,2))\n",
    "Y = np.random.randint(60,85,(25,2))\n",
    "Z = np.vstack((X,Y))\n",
    "\n",
    "print(Z.shape) # check the dimension of the Z \n",
    "\n",
    "# convert to np.float32, why we need to convert to float?\n",
    "Z = np.float32(Z)\n",
    "\n",
    "# define criteria and apply kmeans()\n",
    "criteria = (cv2.TERM_CRITERIA_EPS + cv2.TERM_CRITERIA_MAX_ITER, 10, 1.0)\n",
    "ret,label,center=cv2.kmeans(Z,2,None,criteria,10,cv2.KMEANS_RANDOM_CENTERS)\n",
    "\n",
    "\n",
    "# now its time to check the returned lable data\n",
    "\n",
    "print(label.shape)  #check its shape\n",
    "\n",
    "\n",
    "print(label)  #check its content\n",
    "\n",
    "\n",
    "# Now separate the data, Note the flatten()\n",
    "#here ravel is used to flatten the numpy array\n",
    "#for example \n",
    "#x = np.array([[1, 2, 3], [4, 5, 6]]) np.ravel(x)\n",
    "#gives array([1, 2, 3, 4, 5, 6])\n",
    "\n",
    "A = Z[label.ravel()==0]\n",
    "B = Z[label.ravel()==1]\n",
    "\n",
    "# Plot the data\n",
    "plt.scatter(A[:,0],A[:,1])\n",
    "plt.scatter(B[:,0],B[:,1],c = 'r')\n",
    "plt.scatter(center[:,0],center[:,1],s = 80,c = 'y', marker = 's')\n",
    "plt.xlabel('Height'),plt.ylabel('Weight')\n",
    "plt.show()\n"
   ]
  },
  {
   "cell_type": "code",
   "execution_count": null,
   "metadata": {},
   "outputs": [],
   "source": []
  },
  {
   "cell_type": "code",
   "execution_count": 2,
   "metadata": {},
   "outputs": [],
   "source": []
  },
  {
   "cell_type": "code",
   "execution_count": 2,
   "metadata": {},
   "outputs": [],
   "source": []
  }
 ],
 "metadata": {
  "kernelspec": {
   "display_name": "Python 2",
   "language": "python",
   "name": "python2"
  },
  "language_info": {
   "codemirror_mode": {
    "name": "ipython",
    "version": 2
   },
   "file_extension": ".py",
   "mimetype": "text/x-python",
   "name": "python",
   "nbconvert_exporter": "python",
   "pygments_lexer": "ipython2",
   "version": "2.7.6"
  }
 },
 "nbformat": 4,
 "nbformat_minor": 0
}
